{
  "nbformat": 4,
  "nbformat_minor": 0,
  "metadata": {
    "colab": {
      "provenance": [],
      "collapsed_sections": [
        "MHH8ezJhTnBl"
      ],
      "include_colab_link": true
    },
    "kernelspec": {
      "name": "python3",
      "display_name": "Python 3"
    },
    "language_info": {
      "name": "python"
    }
  },
  "cells": [
    {
      "cell_type": "markdown",
      "metadata": {
        "id": "view-in-github",
        "colab_type": "text"
      },
      "source": [
        "<a href=\"https://colab.research.google.com/github/Putusutha/TanyaJawabAI_SSEC/blob/main/TanyaJawabAI_IPutuSuthaSatyawan.ipynb\" target=\"_parent\"><img src=\"https://colab.research.google.com/assets/colab-badge.svg\" alt=\"Open In Colab\"/></a>"
      ]
    },
    {
      "cell_type": "markdown",
      "source": [
        "# Mini Project Tanya Jawab AI\n",
        "# Nama : I Putu Sutha Satyawan\n",
        "# Kelas : 10\n",
        "#Deskripsi Singkat:  \n",
        "Program ini mengirim pertanyaan ke OpenAI dan Gemini serta mencatat riwayat pertanyaannya ke file.\n",
        "# Tujuan dari proyek ini adalah mengenalkan kamu pada:\n",
        "* Cara mengirim HTTP request ke API model AI\n",
        "* Menampilkan respons API kepada pengguna\n",
        "* Menyimpan riwayat percakapan dalam file\n",
        "* Menulis kode Python yang sederhana namun terstruktur"
      ],
      "metadata": {
        "id": "OFrv4n_1aI-6"
      }
    },
    {
      "cell_type": "markdown",
      "source": [
        "\n",
        "\n",
        "---\n",
        "\n"
      ],
      "metadata": {
        "id": "ZVI_8UXBTjMd"
      }
    },
    {
      "cell_type": "markdown",
      "source": [
        "## 🔑 Konfigurasi API dan Keamanan\n",
        "\n",
        "Di bagian ini, saya mengimpor semua library yang dibutuhkan, lalu mengambil API Key dari Google Colab `userdata` atau fallback ke environment variable `.env`. Hal ini saya lakukan agar kunci API tidak pernah ditulis langsung di kode dan tetap aman saat dikumpulkan atau dibagikan.\n",
        "\n",
        "Saya juga menyiapkan agar program bisa bekerja dengan aman baik di Colab maupun secara lokal (misalnya di Jupyter)."
      ],
      "metadata": {
        "id": "HXbAzk6LK1Ku"
      }
    },
    {
      "cell_type": "code",
      "metadata": {
        "id": "3fb6fc1f"
      },
      "source": [
        "import google.generativeai as genai\n",
        "from google.colab import userdata\n",
        "import datetime\n",
        "import os\n",
        "\n",
        "# Ambil API Key dengan aman (gunakan userdata, jika tidak tersedia gunakan os.getenv)\n",
        "GEMINI_API_KEY = userdata.get('GEMINI_API') or os.getenv(\"GEMINI_API_KEY\")\n",
        "\n",
        "# Konfigurasi Gemini API dengan kunci yang sudah didapat\n",
        "genai.configure(api_key=GEMINI_API_KEY)"
      ],
      "execution_count": null,
      "outputs": []
    },
    {
      "cell_type": "markdown",
      "source": [
        "## 💬 Fungsi Tanya Jawab dan Pencatatan Riwayat\n",
        "\n",
        "Saya membuat dua fungsi utama:\n",
        "\n",
        "- `ask_gemini()`: mengirim pertanyaan ke model AI Gemini dan menangani jika terjadi error seperti kunci salah, server sibuk, atau kuota habis.\n",
        "- `log_history()`: mencatat pertanyaan dan jawaban ke dalam file `riwayat.txt`, lengkap dengan waktu interaksi agar bisa dipelajari kembali.\n",
        "\n",
        "Pemisahan fungsi seperti ini memudahkan debugging dan penggunaan ulang di program lain.\n"
      ],
      "metadata": {
        "id": "54zX7k_0LOtQ"
      }
    },
    {
      "cell_type": "code",
      "metadata": {
        "id": "fee4a672"
      },
      "source": [
        "# Fungsi untuk mengirim pertanyaan ke Gemini AI\n",
        "def ask_gemini(question, model_name=\"gemini-1.5-flash\"):\n",
        "    \"\"\"Sends a question to the Gemini API and returns the response.\"\"\"\n",
        "    try:\n",
        "        model = genai.GenerativeModel(model_name)\n",
        "        response = model.generate_content(question)\n",
        "        return response.text\n",
        "    except Exception as e:\n",
        "        return f\"[Terjadi error: {e}]\"\n",
        "\n",
        "# Fungsi untuk menyimpan riwayat interaksi ke file\n",
        "def log_history(question, gemini_response):\n",
        "    \"\"\"Logs the question and response from Gemini to a file.\"\"\"\n",
        "    with open(\"riwayat.txt\", \"a\") as f:\n",
        "        f.write(f\"Timestamp: {datetime.datetime.now()}\\n\")\n",
        "        f.write(f\"Question: {question}\\n\")\n",
        "        f.write(f\"Gemini Response: {gemini_response}\\n\")\n",
        "        f.write(\"-\" * 30 + \"\\n\")"
      ],
      "execution_count": null,
      "outputs": []
    },
    {
      "cell_type": "markdown",
      "source": [
        "## ▶️ Fungsi Utama dan Riwayat Sebelumnya\n",
        "\n",
        "Di bagian ini, saya menjalankan fungsi utama yang menampilkan riwayat terakhir sebelum pengguna mulai bertanya. Tujuannya agar pengguna bisa mengingat kembali pertanyaan sebelumnya tanpa perlu membuka file.\n",
        "\n",
        "Program ini berjalan dalam loop dan berhenti jika pengguna mengetik `keluar`. Riwayat pertanyaan-jawaban akan terus disimpan secara otomatis."
      ],
      "metadata": {
        "id": "xG83QnHHLdGV"
      }
    },
    {
      "cell_type": "code",
      "metadata": {
        "colab": {
          "base_uri": "https://localhost:8080/",
          "height": 454
        },
        "id": "3f19cd76",
        "outputId": "a7064705-7551-40da-ba4e-729591516e7b"
      },
      "source": [
        "# Fungsi untuk menampilkan n interaksi terakhir dari file log\n",
        "def tampilkan_riwayat_terakhir(n=3):\n",
        "    try:\n",
        "        with open(\"riwayat.txt\", \"r\") as f:\n",
        "            lines = f.readlines()\n",
        "            bagian_terakhir = lines[-n*4:]  # Asumsikan setiap interaksi = 4 baris\n",
        "            print(\"\\n--- Riwayat Terakhir ---\")\n",
        "            print(\"\".join(bagian_terakhir))\n",
        "    except FileNotFoundError:\n",
        "        print(\"Belum ada riwayat.\\n\")\n",
        "\n",
        "# Fungsi utama\n",
        "def main():\n",
        "    print(\"Selamat datang di Mini Project Tanya Jawab AI (Gemini Only)!\")\n",
        "    print(\"Ketik 'keluar' untuk mengakhiri program.\\n\")\n",
        "\n",
        "    tampilkan_riwayat_terakhir()\n",
        "\n",
        "    while True:\n",
        "        question = input(\"Masukkan pertanyaan Anda: \")\n",
        "        if question.lower() == 'keluar':\n",
        "            break\n",
        "\n",
        "        gemini_response = ask_gemini(question)\n",
        "\n",
        "        print(\"\\n--- Respon Gemini ---\")\n",
        "        print(gemini_response)\n",
        "        print(\"-\" * 30)\n",
        "\n",
        "        log_history(question, gemini_response)\n",
        "\n",
        "# Jalankan jika sebagai file utama\n",
        "if __name__ == \"__main__\":\n",
        "    main()\n"
      ],
      "execution_count": null,
      "outputs": [
        {
          "name": "stdout",
          "output_type": "stream",
          "text": [
            "Selamat datang di Mini Project Tanya Jawab AI (Gemini Only)!\n",
            "Ketik 'keluar' untuk mengakhiri program.\n",
            "\n",
            "Belum ada riwayat.\n",
            "\n",
            "Masukkan pertanyaan Anda: apa ibukota indonesia?\n",
            "\n",
            "--- Respon Gemini ---\n",
            "Ibukota Indonesia adalah **Jakarta**.\n",
            "\n",
            "------------------------------\n",
            "Masukkan pertanyaan Anda: siapa nama pencipta python\n",
            "\n",
            "--- Respon Gemini ---\n",
            "Guido van Rossum adalah pencipta bahasa pemrograman Python.\n",
            "\n",
            "------------------------------\n",
            "Masukkan pertanyaan Anda: siapa pencita google colab?\n",
            "\n",
            "--- Respon Gemini ---\n",
            "Google Colab tidak memiliki satu pencipta tunggal.  Ini adalah produk Google yang dikembangkan oleh tim besar insinyur dan peneliti di Google.  Tidak ada informasi publik yang mencantumkan individu tertentu sebagai \"pencipta\" Google Colab.\n",
            "\n",
            "------------------------------\n",
            "Masukkan pertanyaan Anda: keluar\n"
          ]
        }
      ]
    },
    {
      "cell_type": "markdown",
      "metadata": {
        "id": "307dfd66"
      },
      "source": [
        "## Refleksi Pribadi\n",
        "\n",
        "Mengerjakan proyek mini tanya jawab AI ini memberikan pemahaman langsung tentang cara berinteraksi dengan API model bahasa besar seperti Gemini. Saya belajar bagaimana mengirim permintaan, memproses respons, dan menyimpan riwayat percakapan secara terstruktur. Meskipun sederhana, proyek ini membuka wawasan tentang potensi AI dalam aplikasi praktis dan tantangan yang mungkin dihadapi, seperti manajemen API key dan penanganan error. Pengalaman ini sangat berharga dalam memahami dasar-dasar pengembangan aplikasi berbasis AI."
      ]
    },
    {
      "cell_type": "markdown",
      "source": [
        "# ✅ Checklist Proyek API Sederhana\n",
        "\n",
        "**Nama:**  \n",
        "**Model AI:** ☐ OpenAI GPT  ✅ Gemini  \n",
        "**Tanggal:** ___________________\n",
        "\n",
        "| No | Item yang Dicek                                                                 | Ya | Tidak |\n",
        "|----|----------------------------------------------------------------------------------|----|-------|\n",
        "| 1  | API Key berhasil diperoleh                                                      | ✅  | ☐     |\n",
        "| 2  | API Key digunakan dalam kode secara aman (boleh langsung di kode awal)         | ✅  | ☐     |\n",
        "| 3  | Program meminta input dari pengguna                                             | ✅   | ☐     |\n",
        "| 4  | Program mengirim input ke API AI dan menerima jawaban                          | ✅   | ☐     |\n",
        "| 5  | Jawaban AI ditampilkan ke layar                                                 | ✅   | ☐     |\n",
        "| 6  | Pertanyaan dan jawaban disimpan dalam file `riwayat.txt` atau `.json`          | ✅  | ☐     |\n",
        "| 7  | Program berjalan tanpa error                                                    | ✅  | ☐     |\n",
        "| 8  | Kode diberi komentar singkat                                                    | ✅  | ☐     |\n",
        "| 9  | Refleksi pribadi ditulis dalam komentar atau file terpisah                     | ✅   | ☐     |\n",
        "\n",
        "---\n",
        "\n",
        "# 📦 Checklist Pengumpulan Tugas\n",
        "\n",
        "| No | Sebelum Submit Pastikan:                                     | Ya | Tidak |\n",
        "|----|--------------------------------------------------------------|----|-------|\n",
        "| A  | File notebook bisa tanpa error                               | ✅  | ☐     |\n",
        "| B  | Nama file sudah sesuai format yang diminta                   | ✅   | ☐     |\n",
        "| C  | Link Google Colab sudah diatur: \"Anyone can view\"            | ✅   | ☐     |\n"
      ],
      "metadata": {
        "id": "ITQqmbxiJQU0"
      }
    }
  ]
}